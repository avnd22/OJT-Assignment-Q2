{
  "nbformat": 4,
  "nbformat_minor": 0,
  "metadata": {
    "colab": {
      "provenance": []
    },
    "kernelspec": {
      "name": "python3",
      "display_name": "Python 3"
    },
    "language_info": {
      "name": "python"
    }
  },
  "cells": [
    {
      "cell_type": "code",
      "execution_count": null,
      "metadata": {
        "colab": {
          "base_uri": "https://localhost:8080/",
          "height": 119
        },
        "id": "X7xnLr2hXVHI",
        "outputId": "8026e644-e16c-4c6c-d97a-b225158e5161"
      },
      "outputs": [
        {
          "output_type": "execute_result",
          "data": {
            "text/plain": [
              "Matrix([\n",
              "[9, 0, 1, 7, 1],\n",
              "[7, 2, 8, 0, 0],\n",
              "[4, 2, 1, 5, 5],\n",
              "[7, 4, 1, 8, 8],\n",
              "[1, 3, 6, 2, 2]])"
            ],
            "text/latex": "$\\displaystyle \\left[\\begin{matrix}9 & 0 & 1 & 7 & 1\\\\7 & 2 & 8 & 0 & 0\\\\4 & 2 & 1 & 5 & 5\\\\7 & 4 & 1 & 8 & 8\\\\1 & 3 & 6 & 2 & 2\\end{matrix}\\right]$"
          },
          "metadata": {},
          "execution_count": 8
        }
      ],
      "source": [
        "# Q2: Row Echelon Form\n",
        "import numpy as np\n",
        "import sympy as sp\n",
        "np.random.seed(11) # set seed to roll no. 23091011\n",
        "\n",
        "# create a random matrix\n",
        "A = np.random.randint(0, 10, (5, 5))\n",
        "sp.Matrix(A)\n"
      ]
    },
    {
      "cell_type": "code",
      "source": [
        " # Reduce A to its RE form\n",
        "#Method 1\n",
        "A_rref_piv = sp.Matrix(A).rref() #this gives us Re form along with the pivot colums so we\n",
        "A_rref = A_rref_piv[:1] #extract RE matrix\n",
        "sp.Matrix(A_rref)"
      ],
      "metadata": {
        "colab": {
          "base_uri": "https://localhost:8080/",
          "height": 119
        },
        "id": "CWbHyaapZFJy",
        "outputId": "96eba49d-4255-4636-b1f3-1c606a987139"
      },
      "execution_count": null,
      "outputs": [
        {
          "output_type": "execute_result",
          "data": {
            "text/plain": [
              "Matrix([\n",
              "[1, 0, 0, 0, 0],\n",
              "[0, 1, 0, 0, 0],\n",
              "[0, 0, 1, 0, 0],\n",
              "[0, 0, 0, 1, 0],\n",
              "[0, 0, 0, 0, 1]])"
            ],
            "text/latex": "$\\displaystyle \\left[\\begin{matrix}1 & 0 & 0 & 0 & 0\\\\0 & 1 & 0 & 0 & 0\\\\0 & 0 & 1 & 0 & 0\\\\0 & 0 & 0 & 1 & 0\\\\0 & 0 & 0 & 0 & 1\\end{matrix}\\right]$"
          },
          "metadata": {},
          "execution_count": 3
        }
      ]
    },
    {
      "cell_type": "code",
      "source": [
        "#Method 2, using elemenatry operations\n",
        "np.random.seed(11)\n",
        "A = np.random.randint(0, 10, (5, 5))\n",
        "A[1] = A[0] - A[1]\n",
        "A[3] = A[3] - A[4] - A[2] - A[1]\n",
        "A[0] = A[0] - 2*A[2]\n",
        "A[2] = A[2] - 2*A[1]\n",
        "A[1] = A[1] - A[0] - A[4]\n",
        "A[4] = A[4] - A[0] #1st pivot column\n",
        "\n",
        "A[1] = A[1] + A[2]//3\n",
        "A[4] = A[4] - A[2] - A[3]\n",
        "A[2] = A[2]//3 - A[1] - A[3]\n",
        "A[3] = A[3] - A[1] #2nd pivot\n",
        "\n",
        "A[2] = A[2] + A[4]\n",
        "A[3] = A[3] - 2*A[2]\n",
        "A[4] = A[4] + 2*A[3] + A[2]//2\n",
        "A[3] = A[3] - 2*A[2]\n",
        "A[2] = A[2]//2 #3rd pivot\n",
        "\n",
        "A[3] = A[3] - A[4]\n",
        "A[4] = A[4] - 4*A[3]\n",
        "A[3] = A[3] + 3*A[4]\n",
        "A[3] = A[4] - 2*A[3]\n",
        "A[4] = A[4]//7\n",
        "A[4] = A[3] - A[4]\n",
        "A[4] = A[4]//70 #4th and 5th pivot\n",
        "sp.Matrix(A)"
      ],
      "metadata": {
        "colab": {
          "base_uri": "https://localhost:8080/",
          "height": 119
        },
        "id": "HDngJclS9Mv-",
        "outputId": "779a5cd4-5966-47c7-aafc-94c70d9e264c"
      },
      "execution_count": null,
      "outputs": [
        {
          "output_type": "execute_result",
          "data": {
            "text/plain": [
              "Matrix([\n",
              "[1, -4, -1, -3, -9],\n",
              "[0,  1, -7,  5,  9],\n",
              "[0,  0,  1,  9,  0],\n",
              "[0,  0,  0,  1, 68],\n",
              "[0,  0,  0,  0,  1]])"
            ],
            "text/latex": "$\\displaystyle \\left[\\begin{matrix}1 & -4 & -1 & -3 & -9\\\\0 & 1 & -7 & 5 & 9\\\\0 & 0 & 1 & 9 & 0\\\\0 & 0 & 0 & 1 & 68\\\\0 & 0 & 0 & 0 & 1\\end{matrix}\\right]$"
          },
          "metadata": {},
          "execution_count": 45
        }
      ]
    }
  ]
}